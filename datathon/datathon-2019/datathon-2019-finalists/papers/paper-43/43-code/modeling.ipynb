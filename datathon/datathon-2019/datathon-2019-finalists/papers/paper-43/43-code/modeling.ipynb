{
 "cells": [
  {
   "cell_type": "code",
   "execution_count": 51,
   "metadata": {},
   "outputs": [],
   "source": [
    "import pandas as pd\n",
    "import numpy as np\n",
    "import matplotlib.pyplot as plt\n",
    "import seaborn as sns\n",
    "import pandas_profiling\n",
    "import ast\n",
    "from itertools import groupby\n",
    "import statistics\n",
    "from tqdm import tqdm\n",
    "from sklearn.linear_model import LogisticRegression\n",
    "from scipy import stats\n",
    "import statsmodels.api as sm"
   ]
  },
  {
   "cell_type": "code",
   "execution_count": 61,
   "metadata": {},
   "outputs": [],
   "source": [
    "df = pd.read_csv('train_processed_1.csv')"
   ]
  },
  {
   "cell_type": "code",
   "execution_count": null,
   "metadata": {},
   "outputs": [],
   "source": []
  },
  {
   "cell_type": "code",
   "execution_count": 3,
   "metadata": {},
   "outputs": [
    {
     "data": {
      "text/html": [
       "<div>\n",
       "<style scoped>\n",
       "    .dataframe tbody tr th:only-of-type {\n",
       "        vertical-align: middle;\n",
       "    }\n",
       "\n",
       "    .dataframe tbody tr th {\n",
       "        vertical-align: top;\n",
       "    }\n",
       "\n",
       "    .dataframe thead th {\n",
       "        text-align: right;\n",
       "    }\n",
       "</style>\n",
       "<table border=\"1\" class=\"dataframe\">\n",
       "  <thead>\n",
       "    <tr style=\"text-align: right;\">\n",
       "      <th></th>\n",
       "      <th>userID</th>\n",
       "      <th>inAudience</th>\n",
       "      <th>main_group_1</th>\n",
       "      <th>main_group_2</th>\n",
       "      <th>main_group_3</th>\n",
       "      <th>main_group_4</th>\n",
       "      <th>main_group_5</th>\n",
       "      <th>main_group_6</th>\n",
       "      <th>main_group_7</th>\n",
       "      <th>main_group_8</th>\n",
       "      <th>...</th>\n",
       "      <th>main_group_16</th>\n",
       "      <th>main_group_17</th>\n",
       "      <th>main_group_18</th>\n",
       "      <th>main_group_19</th>\n",
       "      <th>main_group_20</th>\n",
       "      <th>main_group_21</th>\n",
       "      <th>main_group_22</th>\n",
       "      <th>main_group_23</th>\n",
       "      <th>main_group_24</th>\n",
       "      <th>main_group_25</th>\n",
       "    </tr>\n",
       "  </thead>\n",
       "  <tbody>\n",
       "    <tr>\n",
       "      <th>0</th>\n",
       "      <td>1</td>\n",
       "      <td>0</td>\n",
       "      <td>0.00000</td>\n",
       "      <td>0.00447</td>\n",
       "      <td>0.01109</td>\n",
       "      <td>0.00248</td>\n",
       "      <td>0.00357</td>\n",
       "      <td>0.00375</td>\n",
       "      <td>0.00130</td>\n",
       "      <td>0.00000</td>\n",
       "      <td>...</td>\n",
       "      <td>0.00000</td>\n",
       "      <td>0.00102</td>\n",
       "      <td>0.00404</td>\n",
       "      <td>0.00000</td>\n",
       "      <td>0.01095</td>\n",
       "      <td>0.01046</td>\n",
       "      <td>0.00000</td>\n",
       "      <td>0.00000</td>\n",
       "      <td>0.00000</td>\n",
       "      <td>0.00592</td>\n",
       "    </tr>\n",
       "    <tr>\n",
       "      <th>1</th>\n",
       "      <td>2</td>\n",
       "      <td>0</td>\n",
       "      <td>0.00104</td>\n",
       "      <td>0.00000</td>\n",
       "      <td>0.00000</td>\n",
       "      <td>0.00145</td>\n",
       "      <td>0.00104</td>\n",
       "      <td>0.00000</td>\n",
       "      <td>0.00000</td>\n",
       "      <td>0.01536</td>\n",
       "      <td>...</td>\n",
       "      <td>0.00000</td>\n",
       "      <td>0.00109</td>\n",
       "      <td>0.00000</td>\n",
       "      <td>0.01760</td>\n",
       "      <td>0.00561</td>\n",
       "      <td>0.00699</td>\n",
       "      <td>0.00000</td>\n",
       "      <td>0.00000</td>\n",
       "      <td>0.00407</td>\n",
       "      <td>0.00287</td>\n",
       "    </tr>\n",
       "    <tr>\n",
       "      <th>2</th>\n",
       "      <td>3</td>\n",
       "      <td>0</td>\n",
       "      <td>0.00192</td>\n",
       "      <td>0.00242</td>\n",
       "      <td>0.01828</td>\n",
       "      <td>0.00216</td>\n",
       "      <td>0.01308</td>\n",
       "      <td>0.00209</td>\n",
       "      <td>0.00000</td>\n",
       "      <td>0.00000</td>\n",
       "      <td>...</td>\n",
       "      <td>0.00162</td>\n",
       "      <td>0.00000</td>\n",
       "      <td>0.00263</td>\n",
       "      <td>0.00121</td>\n",
       "      <td>0.01732</td>\n",
       "      <td>0.00378</td>\n",
       "      <td>0.00116</td>\n",
       "      <td>0.00156</td>\n",
       "      <td>0.00132</td>\n",
       "      <td>0.00207</td>\n",
       "    </tr>\n",
       "    <tr>\n",
       "      <th>3</th>\n",
       "      <td>4</td>\n",
       "      <td>0</td>\n",
       "      <td>0.00000</td>\n",
       "      <td>0.00145</td>\n",
       "      <td>0.00000</td>\n",
       "      <td>0.00000</td>\n",
       "      <td>0.01531</td>\n",
       "      <td>0.00631</td>\n",
       "      <td>0.00481</td>\n",
       "      <td>0.01541</td>\n",
       "      <td>...</td>\n",
       "      <td>0.00000</td>\n",
       "      <td>0.01321</td>\n",
       "      <td>0.00000</td>\n",
       "      <td>0.00240</td>\n",
       "      <td>0.01556</td>\n",
       "      <td>0.00000</td>\n",
       "      <td>0.00000</td>\n",
       "      <td>0.00000</td>\n",
       "      <td>0.00000</td>\n",
       "      <td>0.00154</td>\n",
       "    </tr>\n",
       "    <tr>\n",
       "      <th>4</th>\n",
       "      <td>5</td>\n",
       "      <td>0</td>\n",
       "      <td>0.00378</td>\n",
       "      <td>0.00721</td>\n",
       "      <td>0.01114</td>\n",
       "      <td>0.00109</td>\n",
       "      <td>0.00179</td>\n",
       "      <td>0.00127</td>\n",
       "      <td>0.00239</td>\n",
       "      <td>0.00191</td>\n",
       "      <td>...</td>\n",
       "      <td>0.00000</td>\n",
       "      <td>0.00182</td>\n",
       "      <td>0.00144</td>\n",
       "      <td>0.00192</td>\n",
       "      <td>0.00000</td>\n",
       "      <td>0.00521</td>\n",
       "      <td>0.00000</td>\n",
       "      <td>0.00532</td>\n",
       "      <td>0.00000</td>\n",
       "      <td>0.00140</td>\n",
       "    </tr>\n",
       "  </tbody>\n",
       "</table>\n",
       "<p>5 rows × 27 columns</p>\n",
       "</div>"
      ],
      "text/plain": [
       "   userID  inAudience  main_group_1  main_group_2  main_group_3  main_group_4  \\\n",
       "0       1           0       0.00000       0.00447       0.01109       0.00248   \n",
       "1       2           0       0.00104       0.00000       0.00000       0.00145   \n",
       "2       3           0       0.00192       0.00242       0.01828       0.00216   \n",
       "3       4           0       0.00000       0.00145       0.00000       0.00000   \n",
       "4       5           0       0.00378       0.00721       0.01114       0.00109   \n",
       "\n",
       "   main_group_5  main_group_6  main_group_7  main_group_8  ...  main_group_16  \\\n",
       "0       0.00357       0.00375       0.00130       0.00000  ...        0.00000   \n",
       "1       0.00104       0.00000       0.00000       0.01536  ...        0.00000   \n",
       "2       0.01308       0.00209       0.00000       0.00000  ...        0.00162   \n",
       "3       0.01531       0.00631       0.00481       0.01541  ...        0.00000   \n",
       "4       0.00179       0.00127       0.00239       0.00191  ...        0.00000   \n",
       "\n",
       "   main_group_17  main_group_18  main_group_19  main_group_20  main_group_21  \\\n",
       "0        0.00102        0.00404        0.00000        0.01095        0.01046   \n",
       "1        0.00109        0.00000        0.01760        0.00561        0.00699   \n",
       "2        0.00000        0.00263        0.00121        0.01732        0.00378   \n",
       "3        0.01321        0.00000        0.00240        0.01556        0.00000   \n",
       "4        0.00182        0.00144        0.00192        0.00000        0.00521   \n",
       "\n",
       "   main_group_22  main_group_23  main_group_24  main_group_25  \n",
       "0        0.00000        0.00000        0.00000        0.00592  \n",
       "1        0.00000        0.00000        0.00407        0.00287  \n",
       "2        0.00116        0.00156        0.00132        0.00207  \n",
       "3        0.00000        0.00000        0.00000        0.00154  \n",
       "4        0.00000        0.00532        0.00000        0.00140  \n",
       "\n",
       "[5 rows x 27 columns]"
      ]
     },
     "execution_count": 3,
     "metadata": {},
     "output_type": "execute_result"
    }
   ],
   "source": [
    "df.head()"
   ]
  },
  {
   "cell_type": "code",
   "execution_count": 41,
   "metadata": {},
   "outputs": [
    {
     "name": "stderr",
     "output_type": "stream",
     "text": [
      "/Users/bassim/anaconda3/lib/python3.6/site-packages/sklearn/linear_model/logistic.py:432: FutureWarning: Default solver will be changed to 'lbfgs' in 0.22. Specify a solver to silence this warning.\n",
      "  FutureWarning)\n"
     ]
    }
   ],
   "source": [
    "X = df.iloc[:,2:]\n",
    "y = df['inAudience']\n",
    "clf = LogisticRegression().fit(X, y)"
   ]
  },
  {
   "cell_type": "code",
   "execution_count": 42,
   "metadata": {},
   "outputs": [],
   "source": [
    "propensity_score = clf.predict_proba(X)[:,1]"
   ]
  },
  {
   "cell_type": "code",
   "execution_count": 43,
   "metadata": {},
   "outputs": [],
   "source": [
    "df['p_score'] = propensity_score"
   ]
  },
  {
   "cell_type": "code",
   "execution_count": 22,
   "metadata": {},
   "outputs": [
    {
     "data": {
      "text/plain": [
       "<matplotlib.axes._subplots.AxesSubplot at 0x1a1fb8eac8>"
      ]
     },
     "execution_count": 22,
     "metadata": {},
     "output_type": "execute_result"
    },
    {
     "data": {
      "image/png": "[encoded data removed]",
      "text/plain": [
       "<Figure size 432x288 with 1 Axes>"
      ]
     },
     "metadata": {
      "needs_background": "light"
     },
     "output_type": "display_data"
    }
   ],
   "source": [
    "sns.distplot(df[df['inAudience']==1]['p_score'])\n",
    "sns.distplot(df[df['inAudience']==0]['p_score'])"
   ]
  },
  {
   "cell_type": "code",
   "execution_count": 24,
   "metadata": {},
   "outputs": [
    {
     "data": {
      "text/plain": [
       "Ttest_indResult(statistic=9.97693803266245, pvalue=1.974129839255016e-23)"
      ]
     },
     "execution_count": 24,
     "metadata": {},
     "output_type": "execute_result"
    }
   ],
   "source": [
    "stats.ttest_ind(df[df['inAudience']==1]['p_score'],df[df['inAudience']==0]['p_score'])"
   ]
  },
  {
   "cell_type": "code",
   "execution_count": 26,
   "metadata": {},
   "outputs": [
    {
     "data": {
      "text/plain": [
       "0.01605438087001179"
      ]
     },
     "execution_count": 26,
     "metadata": {},
     "output_type": "execute_result"
    }
   ],
   "source": [
    "np.mean(df[df['inAudience']==1]['p_score'])"
   ]
  },
  {
   "cell_type": "code",
   "execution_count": 27,
   "metadata": {},
   "outputs": [
    {
     "data": {
      "text/plain": [
       "0.015226729365543422"
      ]
     },
     "execution_count": 27,
     "metadata": {},
     "output_type": "execute_result"
    }
   ],
   "source": [
    "np.mean(df[df['inAudience']==0]['p_score'])"
   ]
  },
  {
   "cell_type": "code",
   "execution_count": 45,
   "metadata": {},
   "outputs": [],
   "source": [
    "df['std_interest'] = df.iloc[:,2:-1].std(axis=1)"
   ]
  },
  {
   "cell_type": "code",
   "execution_count": 46,
   "metadata": {},
   "outputs": [
    {
     "data": {
      "text/html": [
       "<div>\n",
       "<style scoped>\n",
       "    .dataframe tbody tr th:only-of-type {\n",
       "        vertical-align: middle;\n",
       "    }\n",
       "\n",
       "    .dataframe tbody tr th {\n",
       "        vertical-align: top;\n",
       "    }\n",
       "\n",
       "    .dataframe thead th {\n",
       "        text-align: right;\n",
       "    }\n",
       "</style>\n",
       "<table border=\"1\" class=\"dataframe\">\n",
       "  <thead>\n",
       "    <tr style=\"text-align: right;\">\n",
       "      <th></th>\n",
       "      <th>userID</th>\n",
       "      <th>inAudience</th>\n",
       "      <th>main_group_1</th>\n",
       "      <th>main_group_2</th>\n",
       "      <th>main_group_3</th>\n",
       "      <th>main_group_4</th>\n",
       "      <th>main_group_5</th>\n",
       "      <th>main_group_6</th>\n",
       "      <th>main_group_7</th>\n",
       "      <th>main_group_8</th>\n",
       "      <th>...</th>\n",
       "      <th>main_group_18</th>\n",
       "      <th>main_group_19</th>\n",
       "      <th>main_group_20</th>\n",
       "      <th>main_group_21</th>\n",
       "      <th>main_group_22</th>\n",
       "      <th>main_group_23</th>\n",
       "      <th>main_group_24</th>\n",
       "      <th>main_group_25</th>\n",
       "      <th>p_score</th>\n",
       "      <th>std_interest</th>\n",
       "    </tr>\n",
       "  </thead>\n",
       "  <tbody>\n",
       "    <tr>\n",
       "      <th>0</th>\n",
       "      <td>1</td>\n",
       "      <td>1</td>\n",
       "      <td>0.00000</td>\n",
       "      <td>0.00447</td>\n",
       "      <td>0.01109</td>\n",
       "      <td>0.00248</td>\n",
       "      <td>0.00357</td>\n",
       "      <td>0.00375</td>\n",
       "      <td>0.00130</td>\n",
       "      <td>0.00000</td>\n",
       "      <td>...</td>\n",
       "      <td>0.00404</td>\n",
       "      <td>0.00000</td>\n",
       "      <td>0.01095</td>\n",
       "      <td>0.01046</td>\n",
       "      <td>0.00000</td>\n",
       "      <td>0.00000</td>\n",
       "      <td>0.00000</td>\n",
       "      <td>0.00592</td>\n",
       "      <td>0.015476</td>\n",
       "      <td>0.003728</td>\n",
       "    </tr>\n",
       "    <tr>\n",
       "      <th>1</th>\n",
       "      <td>2</td>\n",
       "      <td>1</td>\n",
       "      <td>0.00104</td>\n",
       "      <td>0.00000</td>\n",
       "      <td>0.00000</td>\n",
       "      <td>0.00145</td>\n",
       "      <td>0.00104</td>\n",
       "      <td>0.00000</td>\n",
       "      <td>0.00000</td>\n",
       "      <td>0.01536</td>\n",
       "      <td>...</td>\n",
       "      <td>0.00000</td>\n",
       "      <td>0.01760</td>\n",
       "      <td>0.00561</td>\n",
       "      <td>0.00699</td>\n",
       "      <td>0.00000</td>\n",
       "      <td>0.00000</td>\n",
       "      <td>0.00407</td>\n",
       "      <td>0.00287</td>\n",
       "      <td>0.015233</td>\n",
       "      <td>0.004976</td>\n",
       "    </tr>\n",
       "    <tr>\n",
       "      <th>2</th>\n",
       "      <td>3</td>\n",
       "      <td>1</td>\n",
       "      <td>0.00192</td>\n",
       "      <td>0.00242</td>\n",
       "      <td>0.01828</td>\n",
       "      <td>0.00216</td>\n",
       "      <td>0.01308</td>\n",
       "      <td>0.00209</td>\n",
       "      <td>0.00000</td>\n",
       "      <td>0.00000</td>\n",
       "      <td>...</td>\n",
       "      <td>0.00263</td>\n",
       "      <td>0.00121</td>\n",
       "      <td>0.01732</td>\n",
       "      <td>0.00378</td>\n",
       "      <td>0.00116</td>\n",
       "      <td>0.00156</td>\n",
       "      <td>0.00132</td>\n",
       "      <td>0.00207</td>\n",
       "      <td>0.015101</td>\n",
       "      <td>0.005203</td>\n",
       "    </tr>\n",
       "    <tr>\n",
       "      <th>3</th>\n",
       "      <td>4</td>\n",
       "      <td>1</td>\n",
       "      <td>0.00000</td>\n",
       "      <td>0.00145</td>\n",
       "      <td>0.00000</td>\n",
       "      <td>0.00000</td>\n",
       "      <td>0.01531</td>\n",
       "      <td>0.00631</td>\n",
       "      <td>0.00481</td>\n",
       "      <td>0.01541</td>\n",
       "      <td>...</td>\n",
       "      <td>0.00000</td>\n",
       "      <td>0.00240</td>\n",
       "      <td>0.01556</td>\n",
       "      <td>0.00000</td>\n",
       "      <td>0.00000</td>\n",
       "      <td>0.00000</td>\n",
       "      <td>0.00000</td>\n",
       "      <td>0.00154</td>\n",
       "      <td>0.015275</td>\n",
       "      <td>0.006207</td>\n",
       "    </tr>\n",
       "    <tr>\n",
       "      <th>4</th>\n",
       "      <td>5</td>\n",
       "      <td>1</td>\n",
       "      <td>0.00378</td>\n",
       "      <td>0.00721</td>\n",
       "      <td>0.01114</td>\n",
       "      <td>0.00109</td>\n",
       "      <td>0.00179</td>\n",
       "      <td>0.00127</td>\n",
       "      <td>0.00239</td>\n",
       "      <td>0.00191</td>\n",
       "      <td>...</td>\n",
       "      <td>0.00144</td>\n",
       "      <td>0.00192</td>\n",
       "      <td>0.00000</td>\n",
       "      <td>0.00521</td>\n",
       "      <td>0.00000</td>\n",
       "      <td>0.00532</td>\n",
       "      <td>0.00000</td>\n",
       "      <td>0.00140</td>\n",
       "      <td>0.015047</td>\n",
       "      <td>0.011436</td>\n",
       "    </tr>\n",
       "  </tbody>\n",
       "</table>\n",
       "<p>5 rows × 29 columns</p>\n",
       "</div>"
      ],
      "text/plain": [
       "   userID  inAudience  main_group_1  main_group_2  main_group_3  main_group_4  \\\n",
       "0       1           1       0.00000       0.00447       0.01109       0.00248   \n",
       "1       2           1       0.00104       0.00000       0.00000       0.00145   \n",
       "2       3           1       0.00192       0.00242       0.01828       0.00216   \n",
       "3       4           1       0.00000       0.00145       0.00000       0.00000   \n",
       "4       5           1       0.00378       0.00721       0.01114       0.00109   \n",
       "\n",
       "   main_group_5  main_group_6  main_group_7  main_group_8  ...  main_group_18  \\\n",
       "0       0.00357       0.00375       0.00130       0.00000  ...        0.00404   \n",
       "1       0.00104       0.00000       0.00000       0.01536  ...        0.00000   \n",
       "2       0.01308       0.00209       0.00000       0.00000  ...        0.00263   \n",
       "3       0.01531       0.00631       0.00481       0.01541  ...        0.00000   \n",
       "4       0.00179       0.00127       0.00239       0.00191  ...        0.00144   \n",
       "\n",
       "   main_group_19  main_group_20  main_group_21  main_group_22  main_group_23  \\\n",
       "0        0.00000        0.01095        0.01046        0.00000        0.00000   \n",
       "1        0.01760        0.00561        0.00699        0.00000        0.00000   \n",
       "2        0.00121        0.01732        0.00378        0.00116        0.00156   \n",
       "3        0.00240        0.01556        0.00000        0.00000        0.00000   \n",
       "4        0.00192        0.00000        0.00521        0.00000        0.00532   \n",
       "\n",
       "   main_group_24  main_group_25   p_score  std_interest  \n",
       "0        0.00000        0.00592  0.015476      0.003728  \n",
       "1        0.00407        0.00287  0.015233      0.004976  \n",
       "2        0.00132        0.00207  0.015101      0.005203  \n",
       "3        0.00000        0.00154  0.015275      0.006207  \n",
       "4        0.00000        0.00140  0.015047      0.011436  \n",
       "\n",
       "[5 rows x 29 columns]"
      ]
     },
     "execution_count": 46,
     "metadata": {},
     "output_type": "execute_result"
    }
   ],
   "source": [
    "df.head()"
   ]
  },
  {
   "cell_type": "code",
   "execution_count": 52,
   "metadata": {},
   "outputs": [
    {
     "name": "stdout",
     "output_type": "stream",
     "text": [
      "Optimization terminated successfully.\n",
      "         Current function value: 0.182318\n",
      "         Iterations 10\n"
     ]
    }
   ],
   "source": [
    "X = df['std_interest']\n",
    "y = df['inAudience']\n",
    "logit = sm.Logit(y, X)\n",
    "\n",
    "# fit the model\n",
    "result = logit.fit()"
   ]
  },
  {
   "cell_type": "code",
   "execution_count": 54,
   "metadata": {},
   "outputs": [
    {
     "name": "stdout",
     "output_type": "stream",
     "text": [
      "                           Logit Regression Results                           \n",
      "==============================================================================\n",
      "Dep. Variable:             inAudience   No. Observations:                96406\n",
      "Model:                          Logit   Df Residuals:                    96405\n",
      "Method:                           MLE   Df Model:                            0\n",
      "Date:                Sat, 02 Nov 2019   Pseudo R-squ.:                  -1.317\n",
      "Time:                        13:44:02   Log-Likelihood:                -17577.\n",
      "converged:                       True   LL-Null:                       -7587.3\n",
      "                                        LLR p-value:                       nan\n",
      "================================================================================\n",
      "                   coef    std err          z      P>|z|      [0.025      0.975]\n",
      "--------------------------------------------------------------------------------\n",
      "std_interest  -383.3437      2.698   -142.065      0.000    -388.632    -378.055\n",
      "================================================================================\n",
      "\n",
      "Possibly complete quasi-separation: A fraction 0.21 of observations can be\n",
      "perfectly predicted. This might indicate that there is complete\n",
      "quasi-separation. In this case some parameters will not be identified.\n"
     ]
    }
   ],
   "source": [
    "print (result.summary())"
   ]
  },
  {
   "cell_type": "code",
   "execution_count": 60,
   "metadata": {},
   "outputs": [
    {
     "data": {
      "text/plain": [
       "<matplotlib.axes._subplots.AxesSubplot at 0x1a2247c208>"
      ]
     },
     "execution_count": 60,
     "metadata": {},
     "output_type": "execute_result"
    },
    {
     "data": {
      "image/png": "[encoded data removed]",
      "text/plain": [
       "<Figure size 432x288 with 1 Axes>"
      ]
     },
     "metadata": {
      "needs_background": "light"
     },
     "output_type": "display_data"
    }
   ],
   "source": [
    "sns.regplot(x=df['inAudience'],y=df['std_interest'])"
   ]
  },
  {
   "cell_type": "code",
   "execution_count": null,
   "metadata": {},
   "outputs": [],
   "source": []
  },
  {
   "cell_type": "code",
   "execution_count": null,
   "metadata": {},
   "outputs": [],
   "source": []
  },
  {
   "cell_type": "code",
   "execution_count": null,
   "metadata": {},
   "outputs": [],
   "source": []
  }
 ],
 "metadata": {
  "kernelspec": {
   "display_name": "Python 3",
   "language": "python",
   "name": "python3"
  },
  "language_info": {
   "codemirror_mode": {
    "name": "ipython",
    "version": 3
   },
   "file_extension": ".py",
   "mimetype": "text/x-python",
   "name": "python",
   "nbconvert_exporter": "python",
   "pygments_lexer": "ipython3",
   "version": "3.6.8"
  }
 },
 "nbformat": 4,
 "nbformat_minor": 2
}
