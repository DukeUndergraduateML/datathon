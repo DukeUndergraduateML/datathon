{
 "cells": [
  {
   "cell_type": "code",
   "execution_count": 1,
   "metadata": {},
   "outputs": [],
   "source": [
    "import numpy as np\n",
    "import pandas as pd\n",
    "from itertools import groupby\n",
    "from ast import literal_eval"
   ]
  },
  {
   "cell_type": "code",
   "execution_count": 2,
   "metadata": {},
   "outputs": [],
   "source": [
    "train = pd.read_csv('training.csv')\n",
    "interest = pd.read_csv('interest_topics.csv')\n",
    "train['ltiFeatures'] = train['ltiFeatures'].apply(literal_eval)\n",
    "train['stiFeatures'] = train['stiFeatures'].apply(literal_eval)"
   ]
  },
  {
   "cell_type": "code",
   "execution_count": 311,
   "metadata": {},
   "outputs": [],
   "source": [
    "aggregation = set([val.split('/')[1] for val in interest['topic_name']])"
   ]
  },
  {
   "cell_type": "code",
   "execution_count": 318,
   "metadata": {},
   "outputs": [],
   "source": [
    "from collections import defaultdict\n",
    "dic = defaultdict(list)\n",
    "user_width_interest = defaultdict(list)\n",
    "user_aggregate = defaultdict(list)\n",
    "for i in train['ltiFeatures']:\n",
    "    temp_dic = defaultdict(list)\n",
    "    for k, v in i.items():\n",
    "        value = list(interest.loc[interest['topic_id'] == int(k)]['topic_name'].values)\n",
    "        if value:\n",
    "            temp_dic[value[0].split('/')[1]].append(v)\n",
    "    for a, b in temp_dic.items():\n",
    "        dic[a].append(np.std(b))\n",
    "        user_width_interest[a].append(len(b))\n",
    "        user_aggregate[a].append(sum(b))\n"
   ]
  },
  {
   "cell_type": "code",
   "execution_count": 314,
   "metadata": {},
   "outputs": [],
   "source": [
    "stnd_main = pd.DataFrame(dict([(k, pd.Series(v)) for k, v in dic.items()])).fillna(0)\n",
    "user_width_int = pd.DataFrame(dict([(k, pd.Series(v)) for k, v in user_width_interest.items()])).fillna(0)\n",
    "user_agg = pd.DataFrame(dict([(k, pd.Series(v)) for k, v in user_aggregate.items()])).fillna(0)"
   ]
  },
  {
   "cell_type": "code",
   "execution_count": 3,
   "metadata": {},
   "outputs": [],
   "source": [
    "class Tree:\n",
    "    def __init__(self):\n",
    "        self.root = '-'\n",
    "        self.tree = {self.root: {}}\n",
    "\n",
    "    def add_child(self, heirach):\n",
    "        current_t, curr = self.tree, self.root\n",
    "        for i, node in enumerate(heirach):\n",
    "            if node not in current_t[curr].keys():\n",
    "                current_t[curr][node] = {}\n",
    "            current_t = current_t[curr]\n",
    "            curr = node\n",
    "    \n",
    "    def count_leaves(self, subnode):\n",
    "        def counting(nod, curr):\n",
    "            if not curr[nod]:\n",
    "                return 1\n",
    "            leaves = 0\n",
    "            for child in curr[nod].keys():\n",
    "                leaves += counting(child, curr[nod])\n",
    "            return leaves\n",
    "        return counting(subnode, self.tree['-'])"
   ]
  },
  {
   "cell_type": "code",
   "execution_count": 6,
   "metadata": {},
   "outputs": [],
   "source": [
    "from collections import defaultdict\n",
    "t = Tree()\n",
    "max_depth = defaultdict(int)\n",
    "m_width = defaultdict(int)\n",
    "for i, val in enumerate(interest['topic_name']):\n",
    "    sp = val.split('/')   \n",
    "    t.add_child(sp[1:])\n",
    "    m_width[sp[1]] = max(m_width[sp[1]], len(sp))\n",
    "#import pprint\n",
    "#pprint.pprint(t.tree['-']['Arts & Entertainment'])\n",
    "for i in t.tree['-'].keys():\n",
    "    max_depth[i] = t.count_leaves(i)\n",
    "    "
   ]
  }
 ],
 "metadata": {
  "kernelspec": {
   "display_name": "Python 3",
   "language": "python",
   "name": "python3"
  },
  "language_info": {
   "codemirror_mode": {
    "name": "ipython",
    "version": 3
   },
   "file_extension": ".py",
   "mimetype": "text/x-python",
   "name": "python",
   "nbconvert_exporter": "python",
   "pygments_lexer": "ipython3",
   "version": "3.7.3"
  }
 },
 "nbformat": 4,
 "nbformat_minor": 2
}
