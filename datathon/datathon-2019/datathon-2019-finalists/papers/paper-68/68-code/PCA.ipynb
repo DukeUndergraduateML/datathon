{
 "cells": [
  {
   "cell_type": "code",
   "execution_count": null,
   "metadata": {},
   "outputs": [],
   "source": [
    "import pandas as pd\n",
    "import ast\n",
    "import numpy as np\n",
    "import scipy as sp\n",
    "import matplotlib.pyplot as plt"
   ]
  },
  {
   "cell_type": "code",
   "execution_count": null,
   "metadata": {},
   "outputs": [],
   "source": [
    "def load(file):\n",
    "    \n",
    "#    import pandas as pd\n",
    "#    import ast\n",
    "    df = pd.read_csv(file)\n",
    "    \n",
    "    # convert the column values from literal string to dictionary\n",
    "    df['ltiFeatures'] = df['ltiFeatures'].apply(ast.literal_eval)\n",
    "    df['stiFeatures'] = df['stiFeatures'].apply(ast.literal_eval)\n",
    "\n",
    "    return df\n",
    "\n",
    "# load all the data\n",
    "training = load(\"training.csv\")\n",
    "validation = load(\"validation.csv\")\n",
    "interest_topics = pd.read_csv(\"interest_topics.csv\")\n",
    "\n",
    "# inspect the data\n",
    "interest_topics.head()\n",
    "\n",
    "training.head()\n",
    "\n",
    "validation.head()"
   ]
  },
  {
   "cell_type": "code",
   "execution_count": null,
   "metadata": {},
   "outputs": [],
   "source": [
    "feat = pd.DataFrame(list(training['ltiFeatures']))\n",
    "y_train = training['inAudience']\n",
    "x_train = np.nan_to_num(feat)"
   ]
  },
  {
   "cell_type": "code",
   "execution_count": null,
   "metadata": {},
   "outputs": [],
   "source": [
    "from sklearn.decomposition import PCA\n",
    "pcaT = PCA(svd_solver = 'full')\n",
    "case = True\n",
    "pcaT.fit(x_train[y_train==case])\n",
    "train_imgT = pcaT.transform(x_train[y_train==True])\n",
    "train_imgF = pcaT.transform(x_train[y_train==False])\n",
    "plt.plot(train_imgF[:,0], train_imgF[:,1], 'b.', train_imgT[:,0], train_imgT[:,1], 'g.')\n",
    "plt.show()"
   ]
  },
  {
   "cell_type": "code",
   "execution_count": null,
   "metadata": {},
   "outputs": [],
   "source": [
    "m, p = pcaT.components_.shape\n",
    "plt.plot(range(m), np.log10(pcaT.singular_values_))\n"
   ]
  }
 ],
 "metadata": {
  "kernelspec": {
   "display_name": "Python 2",
   "language": "python",
   "name": "python2"
  },
  "language_info": {
   "codemirror_mode": {
    "name": "ipython",
    "version": 2
   },
   "file_extension": ".py",
   "mimetype": "text/x-python",
   "name": "python",
   "nbconvert_exporter": "python",
   "pygments_lexer": "ipython2",
   "version": "2.7.15"
  }
 },
 "nbformat": 4,
 "nbformat_minor": 2
}
