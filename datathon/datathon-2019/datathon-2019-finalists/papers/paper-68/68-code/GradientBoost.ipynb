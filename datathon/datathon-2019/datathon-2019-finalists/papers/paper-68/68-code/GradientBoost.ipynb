{
 "cells": [
  {
   "cell_type": "code",
   "execution_count": 1,
   "metadata": {},
   "outputs": [],
   "source": [
    "import pandas as pd\n",
    "import numpy as np\n",
    "import ast\n",
    "\n",
    "def load(file):\n",
    "    df = pd.read_csv(file)\n",
    "    \n",
    "    # convert the column values from literal string to dictionary\n",
    "    df['ltiFeatures'] = df['ltiFeatures'].apply(ast.literal_eval)\n",
    "    df['stiFeatures'] = df['stiFeatures'].apply(ast.literal_eval)\n",
    "\n",
    "    return df\n",
    "\n",
    "# load all the data\n",
    "training = load(\"valassis_dataset/training.csv\")\n",
    "validation = load(\"valassis_dataset/validation.csv\")\n",
    "interest_topics = pd.read_csv(\"valassis_dataset/interest_topics.csv\")\n",
    "\n",
    "x_train_lti = np.nan_to_num(pd.DataFrame(list(training['ltiFeatures'])))\n",
    "x_train_sti = np.nan_to_num(pd.DataFrame(list(training['stiFeatures'])))\n",
    "y_train = np.nan_to_num(training['inAudience'])\n",
    "\n",
    "x_val_lti = np.nan_to_num(pd.DataFrame(list(validation['ltiFeatures'])).drop(['1670'], axis=1))\n",
    "x_val_sti = np.nan_to_num(pd.DataFrame(list(validation['stiFeatures'])))\n",
    "y_val = np.nan_to_num(validation['inAudience'])"
   ]
  },
  {
   "cell_type": "code",
   "execution_count": null,
   "metadata": {},
   "outputs": [],
   "source": []
  },
  {
   "cell_type": "code",
   "execution_count": 5,
   "metadata": {},
   "outputs": [],
   "source": []
  },
  {
   "cell_type": "code",
   "execution_count": null,
   "metadata": {},
   "outputs": [],
   "source": []
  }
 ],
 "metadata": {
  "kernelspec": {
   "display_name": "Python 3",
   "language": "python",
   "name": "python3"
  },
  "language_info": {
   "codemirror_mode": {
    "name": "ipython",
    "version": 3
   },
   "file_extension": ".py",
   "mimetype": "text/x-python",
   "name": "python",
   "nbconvert_exporter": "python",
   "pygments_lexer": "ipython3",
   "version": "3.7.3"
  }
 },
 "nbformat": 4,
 "nbformat_minor": 2
}
