{
 "cells": [
  {
   "cell_type": "code",
   "execution_count": 1,
   "metadata": {},
   "outputs": [
    {
     "name": "stderr",
     "output_type": "stream",
     "text": [
      "Using TensorFlow backend.\n"
     ]
    }
   ],
   "source": [
    "import tensorflow as tf\n",
    "from keras.models import Model, load_model\n",
    "from keras.layers import Input, Dense\n",
    "from keras.callbacks import ModelCheckpoint, TensorBoard\n",
    "from keras import regularizers\n",
    "from sklearn.preprocessing import StandardScaler\n",
    "from sklearn.model_selection import train_test_split\n",
    "from sklearn.metrics import confusion_matrix, precision_recall_curve\n",
    "from sklearn.metrics import recall_score, classification_report, auc, roc_curve\n",
    "from sklearn.metrics import precision_recall_fscore_support, f1_score\n",
    "import pandas as pd\n",
    "import numpy as np\n",
    "from sklearn.decomposition import PCA\n",
    "import matplotlib.pyplot as plt\n",
    "import ast\n",
    "\n",
    "def load(file):\n",
    "    df = pd.read_csv(file)\n",
    "    \n",
    "    # convert the column values from literal string to dictionary\n",
    "    df['ltiFeatures'] = df['ltiFeatures'].apply(ast.literal_eval)\n",
    "    df['stiFeatures'] = df['stiFeatures'].apply(ast.literal_eval)\n",
    "\n",
    "    return df\n",
    "\n",
    "# load all the data\n",
    "training = load(\"training.csv\")\n",
    "validation = load(\"validation.csv\")\n",
    "interest_topics = pd.read_csv(\"interest_topics.csv\")\n",
    "\n",
    "data_train = pd.DataFrame(list(training['ltiFeatures']))\n",
    "data_train.head()\n",
    "y_train = training['inAudience']\n",
    "\n",
    "data_train = np.nan_to_num(data_train)\n",
    "\n",
    "y_train = np.nan_to_num(y_train)\n",
    "\n",
    "y_train = y_train.astype(int)"
   ]
  },
  {
   "cell_type": "code",
   "execution_count": 2,
   "metadata": {},
   "outputs": [],
   "source": [
    "for i in range(0,96406):\n",
    "    if y_train[i] == 0:\n",
    "        y_train[i] = -1"
   ]
  },
  {
   "cell_type": "code",
   "execution_count": 4,
   "metadata": {},
   "outputs": [
    {
     "name": "stdout",
     "output_type": "stream",
     "text": [
      "[ 1  1  1 ... -1 -1 -1]\n"
     ]
    }
   ],
   "source": []
  },
  {
   "cell_type": "code",
   "execution_count": 3,
   "metadata": {},
   "outputs": [],
   "source": [
    " #used to help randomly select the data points\n",
    "data_split = 0.2\n",
    "seed = 1234"
   ]
  },
  {
   "cell_type": "code",
   "execution_count": 4,
   "metadata": {},
   "outputs": [],
   "source": [
    "# take data corresponding to false\n",
    "x_train_scaled = data_train[1465:,:]"
   ]
  },
  {
   "cell_type": "code",
   "execution_count": 6,
   "metadata": {},
   "outputs": [],
   "source": [
    "pca = PCA(0.99)\n",
    "pca.fit(x_train_scaled)\n",
    "x_pca_train = pca.transform(x_train_scaled)"
   ]
  },
  {
   "cell_type": "code",
   "execution_count": 7,
   "metadata": {},
   "outputs": [
    {
     "name": "stdout",
     "output_type": "stream",
     "text": [
      "Model: \"model_1\"\n",
      "_________________________________________________________________\n",
      "Layer (type)                 Output Shape              Param #   \n",
      "=================================================================\n",
      "input_1 (InputLayer)         (None, 450)               0         \n",
      "_________________________________________________________________\n",
      "dense_1 (Dense)              (None, 374)               168674    \n",
      "_________________________________________________________________\n",
      "dense_2 (Dense)              (None, 94)                35250     \n",
      "_________________________________________________________________\n",
      "dense_3 (Dense)              (None, 24)                2280      \n",
      "_________________________________________________________________\n",
      "dense_4 (Dense)              (None, 6)                 150       \n",
      "_________________________________________________________________\n",
      "dense_5 (Dense)              (None, 6)                 42        \n",
      "_________________________________________________________________\n",
      "dense_6 (Dense)              (None, 24)                168       \n",
      "_________________________________________________________________\n",
      "dense_7 (Dense)              (None, 94)                2350      \n",
      "_________________________________________________________________\n",
      "dense_8 (Dense)              (None, 374)               35530     \n",
      "_________________________________________________________________\n",
      "dense_9 (Dense)              (None, 450)               168750    \n",
      "=================================================================\n",
      "Total params: 413,194\n",
      "Trainable params: 413,194\n",
      "Non-trainable params: 0\n",
      "_________________________________________________________________\n"
     ]
    }
   ],
   "source": [
    "batch_size = 128\n",
    "input_dim = x_pca_train.shape[1] #num of predictor variables, \n",
    "encoding_dim = 32\n",
    "hidden_dim = int(encoding_dim / 2)\n",
    "learning_rate = 1e-3\n",
    "\n",
    "input_layer = Input(shape=(input_dim, ))\n",
    "encoder = Dense(374, activation=\"relu\", activity_regularizer=regularizers.l1(learning_rate))(input_layer)\n",
    "encoder = Dense(94, activation=\"relu\")(encoder)\n",
    "encoder = Dense(24, activation=\"relu\")(encoder)\n",
    "encoder = Dense(6, activation=\"relu\")(encoder)\n",
    "decoder = Dense(6, activation=\"relu\")(encoder)\n",
    "decoder = Dense(24, activation=\"relu\")(decoder)\n",
    "decoder = Dense(94, activation=\"relu\")(decoder)\n",
    "decoder = Dense(374, activation=\"relu\")(decoder)\n",
    "decoder = Dense(input_dim, activation=\"linear\")(decoder)\n",
    "autoencoder = Model(inputs=input_layer, outputs=decoder)\n",
    "autoencoder.summary()\n"
   ]
  },
  {
   "cell_type": "code",
   "execution_count": 8,
   "metadata": {},
   "outputs": [],
   "source": [
    "autoencoder.compile(metrics=['accuracy'],\n",
    "                    loss='mean_squared_error',\n",
    "                    optimizer='adam')\n"
   ]
  },
  {
   "cell_type": "code",
   "execution_count": 9,
   "metadata": {},
   "outputs": [
    {
     "name": "stdout",
     "output_type": "stream",
     "text": [
      "Train on 75952 samples, validate on 18989 samples\n",
      "Epoch 1/50\n",
      "75952/75952 [==============================] - 11s 146us/step - loss: 0.0034 - accuracy: 0.0558 - val_loss: 3.1854e-04 - val_accuracy: 0.0510\n",
      "\n",
      "Epoch 00001: val_loss improved from inf to 0.00032, saving model to autoencoder_classifier.h5\n",
      "Epoch 2/50\n",
      "75952/75952 [==============================] - 11s 141us/step - loss: 2.4675e-04 - accuracy: 0.0554 - val_loss: 3.0765e-04 - val_accuracy: 0.0193\n",
      "\n",
      "Epoch 00002: val_loss improved from 0.00032 to 0.00031, saving model to autoencoder_classifier.h5\n",
      "Epoch 3/50\n",
      "75952/75952 [==============================] - 11s 147us/step - loss: 2.4329e-04 - accuracy: 0.0577 - val_loss: 3.0721e-04 - val_accuracy: 0.1608\n",
      "\n",
      "Epoch 00003: val_loss improved from 0.00031 to 0.00031, saving model to autoencoder_classifier.h5\n",
      "Epoch 4/50\n",
      "75952/75952 [==============================] - 12s 157us/step - loss: 2.4328e-04 - accuracy: 0.0472 - val_loss: 3.0716e-04 - val_accuracy: 0.0510\n",
      "\n",
      "Epoch 00004: val_loss improved from 0.00031 to 0.00031, saving model to autoencoder_classifier.h5\n",
      "Epoch 5/50\n",
      "75952/75952 [==============================] - 11s 149us/step - loss: 2.4326e-04 - accuracy: 0.0478 - val_loss: 3.0717e-04 - val_accuracy: 0.0118\n",
      "\n",
      "Epoch 00005: val_loss did not improve from 0.00031\n",
      "Epoch 6/50\n",
      "75952/75952 [==============================] - 12s 155us/step - loss: 2.4326e-04 - accuracy: 0.0462 - val_loss: 3.0720e-04 - val_accuracy: 0.0510\n",
      "\n",
      "Epoch 00006: val_loss did not improve from 0.00031\n",
      "Epoch 7/50\n",
      "75952/75952 [==============================] - 12s 156us/step - loss: 2.4327e-04 - accuracy: 0.0482 - val_loss: 3.0724e-04 - val_accuracy: 0.0044\n",
      "\n",
      "Epoch 00007: val_loss did not improve from 0.00031\n",
      "Epoch 8/50\n",
      "75952/75952 [==============================] - 12s 153us/step - loss: 2.4327e-04 - accuracy: 0.0390 - val_loss: 3.0726e-04 - val_accuracy: 0.1024\n",
      "\n",
      "Epoch 00008: val_loss did not improve from 0.00031\n",
      "Epoch 9/50\n",
      "75952/75952 [==============================] - 12s 154us/step - loss: 2.4326e-04 - accuracy: 0.0454 - val_loss: 3.0720e-04 - val_accuracy: 0.0118\n",
      "\n",
      "Epoch 00009: val_loss did not improve from 0.00031\n",
      "Epoch 10/50\n",
      "75952/75952 [==============================] - 12s 154us/step - loss: 2.4328e-04 - accuracy: 0.0527 - val_loss: 3.0733e-04 - val_accuracy: 0.1024\n",
      "\n",
      "Epoch 00010: val_loss did not improve from 0.00031\n",
      "Epoch 11/50\n",
      "75952/75952 [==============================] - 12s 155us/step - loss: 2.4328e-04 - accuracy: 0.0514 - val_loss: 3.0722e-04 - val_accuracy: 0.0173\n",
      "\n",
      "Epoch 00011: val_loss did not improve from 0.00031\n",
      "Epoch 12/50\n",
      "75952/75952 [==============================] - 12s 157us/step - loss: 2.4326e-04 - accuracy: 0.0539 - val_loss: 3.0726e-04 - val_accuracy: 0.0510\n",
      "\n",
      "Epoch 00012: val_loss did not improve from 0.00031\n",
      "Epoch 13/50\n",
      "75952/75952 [==============================] - 12s 152us/step - loss: 2.4327e-04 - accuracy: 0.0541 - val_loss: 3.0730e-04 - val_accuracy: 0.1608\n",
      "\n",
      "Epoch 00013: val_loss did not improve from 0.00031\n",
      "Epoch 14/50\n",
      "75952/75952 [==============================] - 12s 155us/step - loss: 2.4327e-04 - accuracy: 0.0521 - val_loss: 3.0714e-04 - val_accuracy: 0.0038\n",
      "\n",
      "Epoch 00014: val_loss improved from 0.00031 to 0.00031, saving model to autoencoder_classifier.h5\n",
      "Epoch 15/50\n",
      "75952/75952 [==============================] - 12s 157us/step - loss: 2.4327e-04 - accuracy: 0.0561 - val_loss: 3.0727e-04 - val_accuracy: 0.0193\n",
      "\n",
      "Epoch 00015: val_loss did not improve from 0.00031\n",
      "Epoch 16/50\n",
      "75952/75952 [==============================] - 11s 151us/step - loss: 2.4328e-04 - accuracy: 0.0435 - val_loss: 3.0722e-04 - val_accuracy: 0.0071\n",
      "\n",
      "Epoch 00016: val_loss did not improve from 0.00031\n",
      "Epoch 17/50\n",
      "75952/75952 [==============================] - 11s 150us/step - loss: 2.4328e-04 - accuracy: 0.0450 - val_loss: 3.0725e-04 - val_accuracy: 0.0448\n",
      "\n",
      "Epoch 00017: val_loss did not improve from 0.00031\n",
      "Epoch 18/50\n",
      "75952/75952 [==============================] - 12s 154us/step - loss: 2.4326e-04 - accuracy: 0.0550 - val_loss: 3.0728e-04 - val_accuracy: 0.0171\n",
      "\n",
      "Epoch 00018: val_loss did not improve from 0.00031\n",
      "Epoch 19/50\n",
      "75952/75952 [==============================] - 12s 152us/step - loss: 2.4327e-04 - accuracy: 0.0462 - val_loss: 3.0719e-04 - val_accuracy: 0.0068\n",
      "\n",
      "Epoch 00019: val_loss did not improve from 0.00031\n",
      "Epoch 20/50\n",
      "75952/75952 [==============================] - 12s 155us/step - loss: 2.4328e-04 - accuracy: 0.0481 - val_loss: 3.0746e-04 - val_accuracy: 0.0082\n",
      "\n",
      "Epoch 00020: val_loss did not improve from 0.00031\n",
      "Epoch 21/50\n",
      "75952/75952 [==============================] - 12s 155us/step - loss: 2.4328e-04 - accuracy: 0.0486 - val_loss: 3.0728e-04 - val_accuracy: 0.1608\n",
      "\n",
      "Epoch 00021: val_loss did not improve from 0.00031\n",
      "Epoch 22/50\n",
      "75952/75952 [==============================] - 13s 168us/step - loss: 2.4328e-04 - accuracy: 0.0507 - val_loss: 3.0721e-04 - val_accuracy: 0.0417\n",
      "\n",
      "Epoch 00022: val_loss did not improve from 0.00031\n",
      "Epoch 23/50\n",
      "75952/75952 [==============================] - 11s 147us/step - loss: 2.4327e-04 - accuracy: 0.0523 - val_loss: 3.0728e-04 - val_accuracy: 0.0040\n",
      "\n",
      "Epoch 00023: val_loss did not improve from 0.00031\n",
      "Epoch 24/50\n",
      "75952/75952 [==============================] - 11s 149us/step - loss: 2.4325e-04 - accuracy: 0.0509 - val_loss: 3.0721e-04 - val_accuracy: 0.0070\n",
      "\n",
      "Epoch 00024: val_loss did not improve from 0.00031\n",
      "Epoch 25/50\n",
      "75952/75952 [==============================] - 11s 148us/step - loss: 2.4327e-04 - accuracy: 0.0484 - val_loss: 3.0729e-04 - val_accuracy: 0.0510\n",
      "\n",
      "Epoch 00025: val_loss did not improve from 0.00031\n",
      "Epoch 26/50\n",
      "75952/75952 [==============================] - 11s 150us/step - loss: 2.4326e-04 - accuracy: 0.0471 - val_loss: 3.0722e-04 - val_accuracy: 0.0077\n",
      "\n",
      "Epoch 00026: val_loss did not improve from 0.00031\n",
      "Epoch 27/50\n",
      "75952/75952 [==============================] - 12s 154us/step - loss: 2.4327e-04 - accuracy: 0.0439 - val_loss: 3.0717e-04 - val_accuracy: 0.1608\n",
      "\n",
      "Epoch 00027: val_loss did not improve from 0.00031\n",
      "Epoch 28/50\n",
      "75952/75952 [==============================] - 11s 145us/step - loss: 2.4328e-04 - accuracy: 0.0578 - val_loss: 3.0729e-04 - val_accuracy: 0.0096\n",
      "\n",
      "Epoch 00028: val_loss did not improve from 0.00031\n",
      "Epoch 29/50\n",
      "75952/75952 [==============================] - 11s 149us/step - loss: 2.4326e-04 - accuracy: 0.0512 - val_loss: 3.0717e-04 - val_accuracy: 0.0448\n",
      "\n",
      "Epoch 00029: val_loss did not improve from 0.00031\n",
      "Epoch 30/50\n",
      "75952/75952 [==============================] - 11s 149us/step - loss: 2.4328e-04 - accuracy: 0.0505 - val_loss: 3.0722e-04 - val_accuracy: 0.0071\n",
      "\n",
      "Epoch 00030: val_loss did not improve from 0.00031\n",
      "Epoch 31/50\n",
      "75952/75952 [==============================] - 11s 148us/step - loss: 2.4328e-04 - accuracy: 0.0507 - val_loss: 3.0719e-04 - val_accuracy: 0.1608\n",
      "\n",
      "Epoch 00031: val_loss did not improve from 0.00031\n",
      "Epoch 32/50\n",
      "75952/75952 [==============================] - 11s 149us/step - loss: 2.4327e-04 - accuracy: 0.0456 - val_loss: 3.0717e-04 - val_accuracy: 0.0077\n",
      "\n",
      "Epoch 00032: val_loss did not improve from 0.00031\n",
      "Epoch 33/50\n",
      "75952/75952 [==============================] - 11s 149us/step - loss: 2.4327e-04 - accuracy: 0.0471 - val_loss: 3.0724e-04 - val_accuracy: 0.0220\n",
      "\n",
      "Epoch 00033: val_loss did not improve from 0.00031\n",
      "Epoch 34/50\n",
      "75952/75952 [==============================] - 11s 150us/step - loss: 2.4327e-04 - accuracy: 0.0573 - val_loss: 3.0713e-04 - val_accuracy: 0.0511\n",
      "\n",
      "Epoch 00034: val_loss improved from 0.00031 to 0.00031, saving model to autoencoder_classifier.h5\n",
      "Epoch 35/50\n",
      "75952/75952 [==============================] - 12s 155us/step - loss: 2.4327e-04 - accuracy: 0.0524 - val_loss: 3.0725e-04 - val_accuracy: 2.6331e-04\n",
      "\n",
      "Epoch 00035: val_loss did not improve from 0.00031\n",
      "Epoch 36/50\n",
      "75952/75952 [==============================] - 12s 159us/step - loss: 2.4325e-04 - accuracy: 0.0478 - val_loss: 3.0717e-04 - val_accuracy: 0.0417\n",
      "\n",
      "Epoch 00036: val_loss did not improve from 0.00031\n",
      "Epoch 37/50\n",
      "75952/75952 [==============================] - 11s 151us/step - loss: 2.4328e-04 - accuracy: 0.0400 - val_loss: 3.0732e-04 - val_accuracy: 6.8461e-04\n",
      "\n",
      "Epoch 00037: val_loss did not improve from 0.00031\n",
      "Epoch 38/50\n"
     ]
    },
    {
     "name": "stdout",
     "output_type": "stream",
     "text": [
      "75952/75952 [==============================] - 11s 140us/step - loss: 2.4327e-04 - accuracy: 0.0518 - val_loss: 3.0722e-04 - val_accuracy: 0.0171\n",
      "\n",
      "Epoch 00038: val_loss did not improve from 0.00031\n",
      "Epoch 39/50\n",
      "75952/75952 [==============================] - 11s 143us/step - loss: 2.4326e-04 - accuracy: 0.0575 - val_loss: 3.0736e-04 - val_accuracy: 0.0220\n",
      "\n",
      "Epoch 00039: val_loss did not improve from 0.00031\n",
      "Epoch 40/50\n",
      "75952/75952 [==============================] - 11s 141us/step - loss: 2.4326e-04 - accuracy: 0.0458 - val_loss: 3.0723e-04 - val_accuracy: 0.1608\n",
      "\n",
      "Epoch 00040: val_loss did not improve from 0.00031\n",
      "Epoch 41/50\n",
      "75952/75952 [==============================] - 11s 140us/step - loss: 2.4327e-04 - accuracy: 0.0515 - val_loss: 3.0733e-04 - val_accuracy: 0.0417\n",
      "\n",
      "Epoch 00041: val_loss did not improve from 0.00031\n",
      "Epoch 42/50\n",
      "75952/75952 [==============================] - 11s 143us/step - loss: 2.4326e-04 - accuracy: 0.0503 - val_loss: 3.0729e-04 - val_accuracy: 0.0448\n",
      "\n",
      "Epoch 00042: val_loss did not improve from 0.00031\n",
      "Epoch 43/50\n",
      "75952/75952 [==============================] - 11s 140us/step - loss: 2.4327e-04 - accuracy: 0.0468 - val_loss: 3.0723e-04 - val_accuracy: 0.0070\n",
      "\n",
      "Epoch 00043: val_loss did not improve from 0.00031\n",
      "Epoch 44/50\n",
      "75952/75952 [==============================] - 11s 149us/step - loss: 2.4326e-04 - accuracy: 0.0596 - val_loss: 3.0734e-04 - val_accuracy: 0.1608\n",
      "\n",
      "Epoch 00044: val_loss did not improve from 0.00031\n",
      "Epoch 45/50\n",
      "75952/75952 [==============================] - 11s 146us/step - loss: 2.4327e-04 - accuracy: 0.0501 - val_loss: 3.0720e-04 - val_accuracy: 0.0082\n",
      "\n",
      "Epoch 00045: val_loss did not improve from 0.00031\n",
      "Epoch 46/50\n",
      "75952/75952 [==============================] - 11s 150us/step - loss: 2.4327e-04 - accuracy: 0.0479 - val_loss: 3.0724e-04 - val_accuracy: 0.1608\n",
      "\n",
      "Epoch 00046: val_loss did not improve from 0.00031\n",
      "Epoch 47/50\n",
      "75952/75952 [==============================] - 11s 147us/step - loss: 2.4326e-04 - accuracy: 0.0562 - val_loss: 3.0718e-04 - val_accuracy: 0.0095\n",
      "\n",
      "Epoch 00047: val_loss did not improve from 0.00031\n",
      "Epoch 48/50\n",
      "75952/75952 [==============================] - 11s 147us/step - loss: 2.4327e-04 - accuracy: 0.0459 - val_loss: 3.0724e-04 - val_accuracy: 0.0095\n",
      "\n",
      "Epoch 00048: val_loss did not improve from 0.00031\n",
      "Epoch 49/50\n",
      "75952/75952 [==============================] - 11s 149us/step - loss: 2.4328e-04 - accuracy: 0.0422 - val_loss: 3.0716e-04 - val_accuracy: 0.0077\n",
      "\n",
      "Epoch 00049: val_loss did not improve from 0.00031\n",
      "Epoch 50/50\n",
      "75952/75952 [==============================] - 11s 148us/step - loss: 2.4327e-04 - accuracy: 0.0441 - val_loss: 3.0711e-04 - val_accuracy: 0.0022\n",
      "\n",
      "Epoch 00050: val_loss improved from 0.00031 to 0.00031, saving model to autoencoder_classifier.h5\n"
     ]
    }
   ],
   "source": [
    "cp = ModelCheckpoint(filepath=\"autoencoder_classifier.h5\",\n",
    "                               save_best_only=True,\n",
    "                               verbose=1)\n",
    "tb = TensorBoard(log_dir='./logs',\n",
    "                histogram_freq=0,\n",
    "                write_graph=True,\n",
    "                write_images=True)\n",
    "\n",
    "history = autoencoder.fit(x_pca_train, x_pca_train,\n",
    "                    epochs = 50,\n",
    "                    batch_size=100,\n",
    "                    shuffle=True,\n",
    "                    validation_split = 0.2,\n",
    "                    verbose=1,\n",
    "                    callbacks=[cp, tb]).history"
   ]
  },
  {
   "cell_type": "code",
   "execution_count": 10,
   "metadata": {},
   "outputs": [],
   "source": [
    "autoencoder = load_model('autoencoder_classifier.h5')\n"
   ]
  },
  {
   "cell_type": "code",
   "execution_count": 11,
   "metadata": {},
   "outputs": [],
   "source": [
    "autoencoder.compile(metrics=['accuracy'],\n",
    "                    loss='mean_squared_error',\n",
    "                    optimizer='adam')"
   ]
  },
  {
   "cell_type": "code",
   "execution_count": 12,
   "metadata": {},
   "outputs": [],
   "source": [
    "data_pca_train = pca.transform(data_train)\n",
    "x_predictions = autoencoder.predict(data_pca_train)"
   ]
  },
  {
   "cell_type": "code",
   "execution_count": 13,
   "metadata": {},
   "outputs": [
    {
     "name": "stdout",
     "output_type": "stream",
     "text": [
      "(96406,)\n"
     ]
    }
   ],
   "source": [
    "mse = np.mean(np.power(data_pca_train - x_predictions, 2), axis=1)\n",
    "print(np.shape(mse))"
   ]
  },
  {
   "cell_type": "code",
   "execution_count": 14,
   "metadata": {},
   "outputs": [
    {
     "data": {
      "image/png": "[encoded data removed]",
      "text/plain": [
       "<Figure size 432x288 with 1 Axes>"
      ]
     },
     "metadata": {
      "needs_background": "light"
     },
     "output_type": "display_data"
    }
   ],
   "source": [
    "error = pd.DataFrame({'Reconstruction_error': mse,\n",
    "                        'True_class': y_train})\n",
    "precision_rt, recall_rt, threshold_rt = precision_recall_curve(error.True_class, error.Reconstruction_error)\n",
    "plt.plot(threshold_rt, precision_rt[1:], label=\"Precision\",linewidth=5)\n",
    "plt.plot(threshold_rt, recall_rt[1:], label=\"Recall\",linewidth=5)\n",
    "plt.title('Precision and recall for different threshold values')\n",
    "plt.xlabel('Threshold')\n",
    "plt.ylabel('Precision/Recall')\n",
    "plt.legend()\n",
    "plt.show()"
   ]
  },
  {
   "cell_type": "code",
   "execution_count": null,
   "metadata": {},
   "outputs": [],
   "source": []
  },
  {
   "cell_type": "code",
   "execution_count": null,
   "metadata": {},
   "outputs": [],
   "source": []
  },
  {
   "cell_type": "code",
   "execution_count": 15,
   "metadata": {},
   "outputs": [
    {
     "data": {
      "text/plain": [
       "[<matplotlib.lines.Line2D at 0x1b94f7550>]"
      ]
     },
     "execution_count": 15,
     "metadata": {},
     "output_type": "execute_result"
    },
    {
     "data": {
      "image/png": "[encoded data removed]",
      "text/plain": [
       "<Figure size 432x288 with 1 Axes>"
      ]
     },
     "metadata": {
      "needs_background": "light"
     },
     "output_type": "display_data"
    }
   ],
   "source": [
    "plt.plot(range(0,94941),mse[1465:],'b^')\n",
    "plt.plot(range(0,1464),mse[0:1464],'g^')"
   ]
  },
  {
   "cell_type": "code",
   "execution_count": null,
   "metadata": {},
   "outputs": [],
   "source": []
  },
  {
   "cell_type": "code",
   "execution_count": 16,
   "metadata": {},
   "outputs": [],
   "source": [
    "data_test = pd.DataFrame(list(validation['ltiFeatures'])).drop(['1670'],axis = 1)\n",
    "data_test.head()\n",
    "y_test = validation['inAudience']\n",
    "\n",
    "\n",
    "data_test = np.nan_to_num(data_test)\n",
    "\n",
    "y_test = np.nan_to_num(y_test)\n",
    "\n",
    "y_test = y_test.astype(int)"
   ]
  },
  {
   "cell_type": "code",
   "execution_count": 17,
   "metadata": {},
   "outputs": [],
   "source": [
    "\n",
    "x_pca_test = pca.transform(data_test)"
   ]
  },
  {
   "cell_type": "code",
   "execution_count": 18,
   "metadata": {},
   "outputs": [],
   "source": [
    "x__test_predictions = autoencoder.predict(x_pca_test)"
   ]
  },
  {
   "cell_type": "code",
   "execution_count": 19,
   "metadata": {},
   "outputs": [
    {
     "name": "stdout",
     "output_type": "stream",
     "text": [
      "[7.65590099e-05 1.57825355e-04 1.04490104e-04 ... 8.01297152e-05\n",
      " 1.68941990e-04 1.36833550e-04]\n"
     ]
    }
   ],
   "source": [
    "mse_test = np.mean(np.power(x_pca_test - x__test_predictions, 2), axis=1)\n",
    "print(mse_test)"
   ]
  },
  {
   "cell_type": "code",
   "execution_count": 20,
   "metadata": {},
   "outputs": [],
   "source": [
    "y_test_labels = np.zeros((80008,1))\n",
    "for i in range(0,80008):\n",
    "    if mse_test[i] >= 0.0016:\n",
    "        y_test_labels[i] = 1\n",
    "        "
   ]
  },
  {
   "cell_type": "code",
   "execution_count": 21,
   "metadata": {},
   "outputs": [],
   "source": [
    "def perf_measure(y_actual, y_hat):\n",
    "    TP = 0\n",
    "    FP = 0\n",
    "    TN = 0\n",
    "    FN = 0\n",
    "\n",
    "    for i in range(len(y_hat)):\n",
    "        if y_actual[i]==y_hat[i]==1:\n",
    "           TP += 1\n",
    "        if y_hat[i]==1 and y_actual[i]!=y_hat[i]:\n",
    "           FP += 1\n",
    "        if y_actual[i]==y_hat[i]==0:\n",
    "           TN += 1\n",
    "        if y_hat[i]==0 and y_actual[i]!=y_hat[i]:\n",
    "           FN += 1\n",
    "\n",
    "    return(TP, FP, TN, FN)"
   ]
  },
  {
   "cell_type": "code",
   "execution_count": 22,
   "metadata": {},
   "outputs": [
    {
     "name": "stdout",
     "output_type": "stream",
     "text": [
      "(5, 142, 79246, 615)\n"
     ]
    }
   ],
   "source": [
    "print(perf_measure(y_test,y_test_labels))"
   ]
  },
  {
   "cell_type": "code",
   "execution_count": null,
   "metadata": {},
   "outputs": [],
   "source": []
  },
  {
   "cell_type": "code",
   "execution_count": null,
   "metadata": {},
   "outputs": [],
   "source": []
  },
  {
   "cell_type": "code",
   "execution_count": null,
   "metadata": {},
   "outputs": [],
   "source": []
  }
 ],
 "metadata": {
  "kernelspec": {
   "display_name": "Python 3",
   "language": "python",
   "name": "python3"
  },
  "language_info": {
   "codemirror_mode": {
    "name": "ipython",
    "version": 3
   },
   "file_extension": ".py",
   "mimetype": "text/x-python",
   "name": "python",
   "nbconvert_exporter": "python",
   "pygments_lexer": "ipython3",
   "version": "3.7.5"
  }
 },
 "nbformat": 4,
 "nbformat_minor": 2
}
